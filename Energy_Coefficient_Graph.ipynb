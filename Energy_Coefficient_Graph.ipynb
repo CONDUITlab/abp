{
 "cells": [
  {
   "cell_type": "code",
   "execution_count": 19,
   "metadata": {},
   "outputs": [],
   "source": [
    "import pywt\n",
    "import pandas as pd\n",
    "import numpy as np\n",
    "import math\n",
    "import matplotlib.pyplot as plt\n",
    "from biosppy.signals import ecg\n",
    "from bokeh.plotting import figure\n",
    "from bokeh.io import output_notebook, show"
   ]
  },
  {
   "cell_type": "code",
   "execution_count": 4,
   "metadata": {},
   "outputs": [],
   "source": [
    "# output_notebook()"
   ]
  },
  {
   "cell_type": "code",
   "execution_count": 51,
   "metadata": {},
   "outputs": [
    {
     "data": {
      "text/html": [
       "<div>\n",
       "<style>\n",
       "    .dataframe thead tr:only-child th {\n",
       "        text-align: right;\n",
       "    }\n",
       "\n",
       "    .dataframe thead th {\n",
       "        text-align: left;\n",
       "    }\n",
       "\n",
       "    .dataframe tbody tr th {\n",
       "        vertical-align: top;\n",
       "    }\n",
       "</style>\n",
       "<table border=\"1\" class=\"dataframe\">\n",
       "  <thead>\n",
       "    <tr style=\"text-align: right;\">\n",
       "      <th></th>\n",
       "      <th>AR1</th>\n",
       "      <th>I</th>\n",
       "      <th>II</th>\n",
       "      <th>III</th>\n",
       "      <th>V</th>\n",
       "      <th>SPO2</th>\n",
       "    </tr>\n",
       "  </thead>\n",
       "  <tbody>\n",
       "    <tr>\n",
       "      <th>2017-07-06 12:00:00.000000080</th>\n",
       "      <td>73.4</td>\n",
       "      <td>0.039</td>\n",
       "      <td>0.181</td>\n",
       "      <td>0.142</td>\n",
       "      <td>0.181</td>\n",
       "      <td>34.32</td>\n",
       "    </tr>\n",
       "    <tr>\n",
       "      <th>2017-07-06 12:00:00.004166747</th>\n",
       "      <td>80.4</td>\n",
       "      <td>0.054</td>\n",
       "      <td>0.210</td>\n",
       "      <td>0.161</td>\n",
       "      <td>0.195</td>\n",
       "      <td>34.32</td>\n",
       "    </tr>\n",
       "    <tr>\n",
       "      <th>2017-07-06 12:00:00.008333414</th>\n",
       "      <td>88.2</td>\n",
       "      <td>0.063</td>\n",
       "      <td>0.244</td>\n",
       "      <td>0.173</td>\n",
       "      <td>0.210</td>\n",
       "      <td>34.32</td>\n",
       "    </tr>\n",
       "    <tr>\n",
       "      <th>2017-07-06 12:00:00.012500081</th>\n",
       "      <td>96.2</td>\n",
       "      <td>0.081</td>\n",
       "      <td>0.278</td>\n",
       "      <td>0.193</td>\n",
       "      <td>0.224</td>\n",
       "      <td>34.32</td>\n",
       "    </tr>\n",
       "    <tr>\n",
       "      <th>2017-07-06 12:00:00.016666748</th>\n",
       "      <td>103.0</td>\n",
       "      <td>0.093</td>\n",
       "      <td>0.303</td>\n",
       "      <td>0.207</td>\n",
       "      <td>0.244</td>\n",
       "      <td>34.32</td>\n",
       "    </tr>\n",
       "    <tr>\n",
       "      <th>2017-07-06 12:00:00.020833415</th>\n",
       "      <td>110.0</td>\n",
       "      <td>0.105</td>\n",
       "      <td>0.329</td>\n",
       "      <td>0.220</td>\n",
       "      <td>0.259</td>\n",
       "      <td>34.32</td>\n",
       "    </tr>\n",
       "    <tr>\n",
       "      <th>2017-07-06 12:00:00.025000082</th>\n",
       "      <td>114.4</td>\n",
       "      <td>0.117</td>\n",
       "      <td>0.354</td>\n",
       "      <td>0.232</td>\n",
       "      <td>0.271</td>\n",
       "      <td>34.32</td>\n",
       "    </tr>\n",
       "    <tr>\n",
       "      <th>2017-07-06 12:00:00.029166749</th>\n",
       "      <td>118.8</td>\n",
       "      <td>0.132</td>\n",
       "      <td>0.376</td>\n",
       "      <td>0.239</td>\n",
       "      <td>0.283</td>\n",
       "      <td>34.32</td>\n",
       "    </tr>\n",
       "  </tbody>\n",
       "</table>\n",
       "</div>"
      ],
      "text/plain": [
       "                                 AR1      I     II    III      V   SPO2\n",
       "2017-07-06 12:00:00.000000080   73.4  0.039  0.181  0.142  0.181  34.32\n",
       "2017-07-06 12:00:00.004166747   80.4  0.054  0.210  0.161  0.195  34.32\n",
       "2017-07-06 12:00:00.008333414   88.2  0.063  0.244  0.173  0.210  34.32\n",
       "2017-07-06 12:00:00.012500081   96.2  0.081  0.278  0.193  0.224  34.32\n",
       "2017-07-06 12:00:00.016666748  103.0  0.093  0.303  0.207  0.244  34.32\n",
       "2017-07-06 12:00:00.020833415  110.0  0.105  0.329  0.220  0.259  34.32\n",
       "2017-07-06 12:00:00.025000082  114.4  0.117  0.354  0.232  0.271  34.32\n",
       "2017-07-06 12:00:00.029166749  118.8  0.132  0.376  0.239  0.283  34.32"
      ]
     },
     "execution_count": 51,
     "metadata": {},
     "output_type": "execute_result"
    }
   ],
   "source": [
    "storeA=pd.HDFStore('ABP_A.hd5')\n",
    "storeB=pd.HDFStore('ABP_B.hd5')\n",
    "storeC=pd.HDFStore('ABP_C.hd5')\n",
    "\n",
    "wavesA=storeA.select('Waveforms')\n",
    "wavesB=storeB.select('Waveforms')\n",
    "wavesC=storeC.select('Waveforms')\n",
    "\n",
    "DATA_TIME_CONST = 0.004166747\n",
    "\n",
    "wavesA.iloc[0:8]"
   ]
  },
  {
   "cell_type": "code",
   "execution_count": 170,
   "metadata": {},
   "outputs": [],
   "source": [
    "# detail_coeffs_list = [[\"cA5\", \"cD5\"],[\"cA4\", \"cD4\"],[\"cA3\", \"cD3\"],[\"cA2\", \"cD2\"],[\"cA1\", \"cD1\"]]\n",
    "\n",
    "# print()\n",
    "# print(math.floor(len(wavesA) / math.ceil(13.5 / DATA_TIME_CONST)))\n",
    "\n",
    "def generateSWTCoeffs(waveform, level=5):\n",
    "#     time_units = math.ceil(window / DATA_TIME_CONST)\n",
    "#     abp_signal_swt = wavesA.iloc[0:3200]['AR1']\n",
    "    db4 = pywt.Wavelet('db4')\n",
    "#     print(pywt.swt(abp_signal_swt, db4, level=5))\n",
    "    return pywt.swt(waveform, db4, level=level)\n",
    "    #return (cA5a, cD5a), (cA4a, cD4a), (cA3a, cD3a), (cA2a, cD2a), (cA1a, cD1a) = pywt.swt(abp__signal_swt, db4, level=5)\n",
    "    \n",
    "def calcEnergy(coeff):\n",
    "    return np.sqrt(np.sum(np.array(coeff ** 2)) / len(coeff))"
   ]
  },
  {
   "cell_type": "code",
   "execution_count": 183,
   "metadata": {},
   "outputs": [],
   "source": [
    "def segmenter(level=5, window_multiplier=1):\n",
    "    section_size = math.ceil(13.5 / DATA_TIME_CONST)\n",
    "    section_size = int((100*2**level / 4)) * window_multiplier\n",
    "    return np.arange(0, len(wavesA), section_size)"
   ]
  },
  {
   "cell_type": "code",
   "execution_count": 184,
   "metadata": {},
   "outputs": [
    {
     "data": {
      "text/plain": [
       "[['cA6', 'cD6'],\n",
       " ['cA5', 'cD5'],\n",
       " ['cA4', 'cD4'],\n",
       " ['cA3', 'cD3'],\n",
       " ['cA2', 'cD2'],\n",
       " ['cA1', 'cD1']]"
      ]
     },
     "execution_count": 184,
     "metadata": {},
     "output_type": "execute_result"
    }
   ],
   "source": [
    "def listCreator(levels):\n",
    "    new_list = []\n",
    "    for i in range(levels, 0, -1):\n",
    "        new_list.append([\"cA{0}\".format(i),\"cD{0}\".format(i)])\n",
    "    return new_list\n",
    "\n",
    "listCreator(6)"
   ]
  },
  {
   "cell_type": "code",
   "execution_count": 192,
   "metadata": {},
   "outputs": [
    {
     "name": "stdout",
     "output_type": "stream",
     "text": [
      "           cA1         cA2         cA3         cA4         cA5       cD1  \\\n",
      "0   105.861738  149.710211  211.671511  298.710771  419.280458  0.170124   \n",
      "1   101.241853  143.164561  202.372722  285.483363  400.607149  1.115184   \n",
      "2   100.223386  141.721902  200.345889  282.687707  396.546182  1.197331   \n",
      "3    95.395780  134.908242  190.747571  269.169308  377.211207  0.374473   \n",
      "4    93.385411  132.063195  186.726047  263.561696  369.818292  0.568694   \n",
      "5    95.197163  134.628611  190.359492  268.664601  376.766208  0.143535   \n",
      "6    94.229575  133.250640  188.385128  265.884836  373.127446  0.938555   \n",
      "7    97.701972  138.165969  195.345445  275.694626  386.813515  0.678833   \n",
      "8    98.960649  139.949915  197.876845  279.241943  391.531696  0.355638   \n",
      "9    99.811699  141.152627  199.579407  281.714594  395.578594  0.463468   \n",
      "10  102.864485  145.471698  205.684041  290.263495  407.320940  0.170432   \n",
      "11  101.588050  143.666485  203.135732  286.733652  402.701153  0.198004   \n",
      "12  100.411500  142.002700  200.778910  283.329909  397.356665  0.157392   \n",
      "13   96.211333  136.062804  192.385654  271.549535  381.129757  0.157330   \n",
      "14   96.027596  135.802754  192.015973  270.962537  380.008684  0.203256   \n",
      "15   95.794649  135.469163  191.535605  270.265187  378.786794  0.667127   \n",
      "16   97.084832  137.292467  194.114165  273.992419  384.600782  0.758610   \n",
      "\n",
      "         cD2       cD3        cD4        cD5  \n",
      "0   0.517488  4.633158  19.532844  51.576614  \n",
      "1   1.932329  6.120831  20.216004  50.153897  \n",
      "2   2.087331  5.632021  19.094781  50.752390  \n",
      "3   0.689796  3.978914  17.808852  51.146237  \n",
      "4   0.991210  3.841670  16.384917  46.518446  \n",
      "5   0.370007  3.604107  17.111538  49.077078  \n",
      "6   1.640893  4.744442  16.827562  46.533871  \n",
      "7   1.231054  4.452801  17.668014  48.891286  \n",
      "8   0.664404  4.088031  18.287392  51.527238  \n",
      "9   0.828417  4.023493  17.342643  47.368767  \n",
      "10  0.435506  4.255000  18.946051  50.945509  \n",
      "11  0.452580  3.999029  17.665332  47.583153  \n",
      "12  0.414556  4.166863  18.668265  51.568947  \n",
      "13  0.392887  3.732762  16.891716  47.099976  \n",
      "14  0.458649  3.826526  17.876555  49.343615  \n",
      "15  1.155604  4.230874  18.124687  51.059842  \n",
      "16  1.306719  4.258395  16.993308  47.179760  \n"
     ]
    }
   ],
   "source": [
    "def processWaveform(waveform, level, window_multiplier):\n",
    "    energy = {}\n",
    "\n",
    "    for label in detail_coeffs_list:\n",
    "        energy[label[0]] = []\n",
    "        energy[label[1]] = []\n",
    "\n",
    "    segments = segmenter(level, window_multiplier)\n",
    "\n",
    "    for i in range(1, len(segments)):\n",
    "        signal1 = waveform.head(3200)['AR1']\n",
    "        signal = waveform.iloc[segments[i-1]:segments[i]]['AR1']\n",
    "\n",
    "        for coeff, label in zip(generateSWTCoeffs(signal, 5), listCreator(5)):\n",
    "            for single_coeff, single_label in zip(coeff, label):\n",
    "                nrgCoeff = calcEnergy(single_coeff)\n",
    "                energy[single_label].append(nrgCoeff)\n",
    "\n",
    "    return pd.DataFrame(data=energy)\n",
    "\n",
    "print(processWaveform(wavesA, 5, 1))"
   ]
  },
  {
   "cell_type": "code",
   "execution_count": null,
   "metadata": {},
   "outputs": [],
   "source": []
  }
 ],
 "metadata": {
  "kernelspec": {
   "display_name": "Python [conda env:anaconda]",
   "language": "python",
   "name": "conda-env-anaconda-py"
  },
  "language_info": {
   "codemirror_mode": {
    "name": "ipython",
    "version": 3
   },
   "file_extension": ".py",
   "mimetype": "text/x-python",
   "name": "python",
   "nbconvert_exporter": "python",
   "pygments_lexer": "ipython3",
   "version": "3.5.2"
  }
 },
 "nbformat": 4,
 "nbformat_minor": 1
}
