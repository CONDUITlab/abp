{
 "cells": [
  {
   "cell_type": "code",
   "execution_count": null,
   "metadata": {},
   "outputs": [],
   "source": [
    "import pandas as pd\n",
    "from bokeh.layouts import row, widgetbox\n",
    "from bokeh.models import Select\n",
    "from bokeh.io import show\n",
    "from bokeh.application.handlers import FunctionHandler\n",
    "from bokeh.application import Application\n",
    "\n",
    "from random import random\n",
    "\n",
    "from bokeh.layouts import column\n",
    "from bokeh.models import Button\n",
    "from bokeh.palettes import RdYlBu3\n",
    "from bokeh.plotting import figure\n",
    "\n",
    "\n",
    "from bokeh.models import ColumnDataSource\n",
    "from bokeh.layouts import row\n",
    "from bokeh.io import curdoc\n",
    "from random import sample"
   ]
  },
  {
   "cell_type": "code",
   "execution_count": null,
   "metadata": {},
   "outputs": [],
   "source": [
    "def modify_doc(doc):\n",
    "    # data for plot 2\n",
    "    df2 = pd.DataFrame({\"A\" : sample(np.linspace(10, 20, 10),5),\n",
    "                        \"B\" : sample(np.linspace(20, 30, 10),5),\n",
    "                        \"C\" : sample(np.linspace(30, 40, 10),5),\n",
    "                        \"D\" : sample(np.linspace(40, 50, 10),5),\n",
    "                        \"E\" : sample(np.linspace(50, 60, 10),5),})\n",
    "    source2 = ColumnDataSource(\n",
    "            data=dict(\n",
    "                x=list(df2.index.values),\n",
    "                y=list(df2.iloc[:,0].values)\n",
    "            )\n",
    "        )\n",
    "\n",
    "    # data for plot 1\n",
    "    df1 = np.mean(df2)\n",
    "    source1 = ColumnDataSource(\n",
    "            data=dict(\n",
    "                x=list(range(0,df1.shape[0])),\n",
    "                y=list(df1.values),\n",
    "                colnames = list(df1.index.values)\n",
    "            )\n",
    "        )\n",
    "\n",
    "    # Plot graph one with data from df1 and source 1 as barplot\n",
    "    plot1 = figure(plot_height=300, plot_width=400, tools=\"tap\")\n",
    "    barglyph = plot1.vbar(x='x',top='y',source=source1, bottom=0,width =0.5)\n",
    "\n",
    "\n",
    "    # Plot graph two with data from df2 and source 2 as line\n",
    "    plot2 = figure(plot_height=300, plot_width=400, title=\"myvalues\", \n",
    "                  tools=\"crosshair,box_zoom,reset,save,wheel_zoom,hover\")    \n",
    "    r1 = plot2.line(x='x',y='y',source =source2, line_alpha = 1, line_width=1)\n",
    "    # safe data from plot 2 for later change in subroutine\n",
    "    ds1 = r1.data_source\n",
    "\n",
    "    def callback(attr, old, new):\n",
    "        patch_name =  source1.data['colnames'][new['1d']['indices'][0]]\n",
    "        ds1.data['y'] = df2[patch_name].values\n",
    "        print(\"TapTool callback executed on Patch {}\".format(patch_name))\n",
    "\n",
    "    # add taptool to plot1\n",
    "    barglyph.data_source.on_change('selected',callback)\n",
    "\n",
    "    doc.add_root(row(plot1,plot2))"
   ]
  },
  {
   "cell_type": "code",
   "execution_count": null,
   "metadata": {},
   "outputs": [],
   "source": [
    "# Create the Document Application\n",
    "# def modify_doc(doc):\n",
    "    \n",
    "#     # Create the main plot\n",
    "#     def create_figure():\n",
    "#         p = figure(x_range=(0, 100), y_range=(0, 100), toolbar_location=None)\n",
    "#         p.border_fill_color = 'black'\n",
    "#         p.background_fill_color = 'black'\n",
    "#         p.outline_line_color = None\n",
    "#         p.grid.grid_line_color = None\n",
    "#         r = p.text(x=[], y=[], text=[], text_color=[], text_font_size=\"20pt\",\n",
    "#            text_baseline=\"middle\", text_align=\"center\")\n",
    "\n",
    "#         return r\n",
    "\n",
    "#     # Update the plot\n",
    "#     def update(attr, old, new):\n",
    "#         layout.children[1] = create_figure()\n",
    "    \n",
    "#     # Controls\n",
    "# #     feature_name = Select(title=\"Iris Feature:\", options=['This one', 'That one'], value='A value')\n",
    "# #     feature_name.on_change('value', update)\n",
    "# #     controls = widgetbox([feature_name], width=200)\n",
    "#     p = create_figure()\n",
    "#     layout = column(p)\n",
    "#     doc.add_root(layout)\n",
    "\n",
    "# Set up the Application \n",
    "handler = FunctionHandler(modify_doc)\n",
    "app = Application(handler)"
   ]
  },
  {
   "cell_type": "code",
   "execution_count": null,
   "metadata": {},
   "outputs": [],
   "source": [
    "# Create the Document\n",
    "# Not strictly necessary, but helps w/ debugging\n",
    "doc = app.create_document()\n",
    "print(doc)"
   ]
  },
  {
   "cell_type": "code",
   "execution_count": null,
   "metadata": {},
   "outputs": [],
   "source": [
    "# Show the application\n",
    "# Make sure the URL matches your Jupyter instance\n",
    "show(app, notebook_url=\"localhost:8888\")"
   ]
  },
  {
   "cell_type": "code",
   "execution_count": null,
   "metadata": {},
   "outputs": [],
   "source": []
  }
 ],
 "metadata": {
  "kernelspec": {
   "display_name": "Python [conda env:anaconda]",
   "language": "python",
   "name": "conda-env-anaconda-py"
  },
  "language_info": {
   "codemirror_mode": {
    "name": "ipython",
    "version": 3
   },
   "file_extension": ".py",
   "mimetype": "text/x-python",
   "name": "python",
   "nbconvert_exporter": "python",
   "pygments_lexer": "ipython3",
   "version": "3.5.2"
  }
 },
 "nbformat": 4,
 "nbformat_minor": 1
}
