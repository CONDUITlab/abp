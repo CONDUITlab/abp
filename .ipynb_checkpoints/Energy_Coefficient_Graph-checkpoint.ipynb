{
 "cells": [
  {
   "cell_type": "code",
   "execution_count": 19,
   "metadata": {},
   "outputs": [],
   "source": [
    "import pywt\n",
    "import pandas as pd\n",
    "import numpy as np\n",
    "import math\n",
    "import matplotlib.pyplot as plt\n",
    "from biosppy.signals import ecg\n",
    "from bokeh.plotting import figure\n",
    "from bokeh.io import output_notebook, show"
   ]
  },
  {
   "cell_type": "code",
   "execution_count": 4,
   "metadata": {},
   "outputs": [],
   "source": [
    "# output_notebook()"
   ]
  },
  {
   "cell_type": "code",
   "execution_count": 51,
   "metadata": {},
   "outputs": [
    {
     "data": {
      "text/html": [
       "<div>\n",
       "<style>\n",
       "    .dataframe thead tr:only-child th {\n",
       "        text-align: right;\n",
       "    }\n",
       "\n",
       "    .dataframe thead th {\n",
       "        text-align: left;\n",
       "    }\n",
       "\n",
       "    .dataframe tbody tr th {\n",
       "        vertical-align: top;\n",
       "    }\n",
       "</style>\n",
       "<table border=\"1\" class=\"dataframe\">\n",
       "  <thead>\n",
       "    <tr style=\"text-align: right;\">\n",
       "      <th></th>\n",
       "      <th>AR1</th>\n",
       "      <th>I</th>\n",
       "      <th>II</th>\n",
       "      <th>III</th>\n",
       "      <th>V</th>\n",
       "      <th>SPO2</th>\n",
       "    </tr>\n",
       "  </thead>\n",
       "  <tbody>\n",
       "    <tr>\n",
       "      <th>2017-07-06 12:00:00.000000080</th>\n",
       "      <td>73.4</td>\n",
       "      <td>0.039</td>\n",
       "      <td>0.181</td>\n",
       "      <td>0.142</td>\n",
       "      <td>0.181</td>\n",
       "      <td>34.32</td>\n",
       "    </tr>\n",
       "    <tr>\n",
       "      <th>2017-07-06 12:00:00.004166747</th>\n",
       "      <td>80.4</td>\n",
       "      <td>0.054</td>\n",
       "      <td>0.210</td>\n",
       "      <td>0.161</td>\n",
       "      <td>0.195</td>\n",
       "      <td>34.32</td>\n",
       "    </tr>\n",
       "    <tr>\n",
       "      <th>2017-07-06 12:00:00.008333414</th>\n",
       "      <td>88.2</td>\n",
       "      <td>0.063</td>\n",
       "      <td>0.244</td>\n",
       "      <td>0.173</td>\n",
       "      <td>0.210</td>\n",
       "      <td>34.32</td>\n",
       "    </tr>\n",
       "    <tr>\n",
       "      <th>2017-07-06 12:00:00.012500081</th>\n",
       "      <td>96.2</td>\n",
       "      <td>0.081</td>\n",
       "      <td>0.278</td>\n",
       "      <td>0.193</td>\n",
       "      <td>0.224</td>\n",
       "      <td>34.32</td>\n",
       "    </tr>\n",
       "    <tr>\n",
       "      <th>2017-07-06 12:00:00.016666748</th>\n",
       "      <td>103.0</td>\n",
       "      <td>0.093</td>\n",
       "      <td>0.303</td>\n",
       "      <td>0.207</td>\n",
       "      <td>0.244</td>\n",
       "      <td>34.32</td>\n",
       "    </tr>\n",
       "    <tr>\n",
       "      <th>2017-07-06 12:00:00.020833415</th>\n",
       "      <td>110.0</td>\n",
       "      <td>0.105</td>\n",
       "      <td>0.329</td>\n",
       "      <td>0.220</td>\n",
       "      <td>0.259</td>\n",
       "      <td>34.32</td>\n",
       "    </tr>\n",
       "    <tr>\n",
       "      <th>2017-07-06 12:00:00.025000082</th>\n",
       "      <td>114.4</td>\n",
       "      <td>0.117</td>\n",
       "      <td>0.354</td>\n",
       "      <td>0.232</td>\n",
       "      <td>0.271</td>\n",
       "      <td>34.32</td>\n",
       "    </tr>\n",
       "    <tr>\n",
       "      <th>2017-07-06 12:00:00.029166749</th>\n",
       "      <td>118.8</td>\n",
       "      <td>0.132</td>\n",
       "      <td>0.376</td>\n",
       "      <td>0.239</td>\n",
       "      <td>0.283</td>\n",
       "      <td>34.32</td>\n",
       "    </tr>\n",
       "  </tbody>\n",
       "</table>\n",
       "</div>"
      ],
      "text/plain": [
       "                                 AR1      I     II    III      V   SPO2\n",
       "2017-07-06 12:00:00.000000080   73.4  0.039  0.181  0.142  0.181  34.32\n",
       "2017-07-06 12:00:00.004166747   80.4  0.054  0.210  0.161  0.195  34.32\n",
       "2017-07-06 12:00:00.008333414   88.2  0.063  0.244  0.173  0.210  34.32\n",
       "2017-07-06 12:00:00.012500081   96.2  0.081  0.278  0.193  0.224  34.32\n",
       "2017-07-06 12:00:00.016666748  103.0  0.093  0.303  0.207  0.244  34.32\n",
       "2017-07-06 12:00:00.020833415  110.0  0.105  0.329  0.220  0.259  34.32\n",
       "2017-07-06 12:00:00.025000082  114.4  0.117  0.354  0.232  0.271  34.32\n",
       "2017-07-06 12:00:00.029166749  118.8  0.132  0.376  0.239  0.283  34.32"
      ]
     },
     "execution_count": 51,
     "metadata": {},
     "output_type": "execute_result"
    }
   ],
   "source": [
    "storeA=pd.HDFStore('ABP_A.hd5')\n",
    "storeB=pd.HDFStore('ABP_B.hd5')\n",
    "storeC=pd.HDFStore('ABP_C.hd5')\n",
    "\n",
    "wavesA=storeA.select('Waveforms')\n",
    "wavesB=storeB.select('Waveforms')\n",
    "wavesC=storeC.select('Waveforms')\n",
    "\n",
    "DATA_TIME_CONST = 0.004166747\n",
    "\n",
    "wavesA.iloc[0:8]"
   ]
  },
  {
   "cell_type": "code",
   "execution_count": 34,
   "metadata": {},
   "outputs": [
    {
     "name": "stdout",
     "output_type": "stream",
     "text": [
      "4\n"
     ]
    }
   ],
   "source": [
    "detail_coeffs_list = ['cA5', 'cD5','cA4', 'cD4','cA3', 'cD3','cA2', 'cD2','cA1', 'cD1']\n",
    "\n",
    "# print()\n",
    "print(math.floor(len(wavesA) / math.ceil(13.5 / DATA_TIME_CONST)))\n",
    "\n",
    "def generateSWTCoeffs(waveform, window=13.5):\n",
    "    time_units = math.ceil(window / DATA_TIME_CONST)\n",
    "#     abp_signal_swt = waveform.head(3200)['AR1']\n",
    "    abp_signal_swt = waveform.iloc(0:3200)['AR1']\n",
    "    db4 = pywt.Wavelet('db4')\n",
    "    \n",
    "#     print(pywt.swt(abp_signal_swt, db4, level=5))\n",
    "    pywt.swt(abp_signal_swt, db4, level=5)\n",
    "    #return (cA5a, cD5a), (cA4a, cD4a), (cA3a, cD3a), (cA2a, cD2a), (cA1a, cD1a) = pywt.swt(abp__signal_swt, db4, level=5)\n",
    "    \n",
    "def calcEnergy(coeff):\n",
    "    return np.sqrt(np.sum(np.array(coeff ** 2)) / len(coeff)"
   ]
  },
  {
   "cell_type": "code",
   "execution_count": 60,
   "metadata": {},
   "outputs": [
    {
     "name": "stdout",
     "output_type": "stream",
     "text": [
      "[(array([ 258.22664261,  255.7325113 ,  253.60597234, ...,  267.43202265,\n",
      "        264.10834264,  261.03064419]), array([ -1.23001258,  -6.59715334, -11.6766235 , ...,  14.76359123,\n",
      "         9.67864831,   4.26493436])), (array([ 289.17494865,  306.8581305 ,  323.68269692, ...,  236.20826118,\n",
      "        253.3260092 ,  271.15948024]), array([ 51.60252066,  40.28284014,  28.03456793, ...,  69.02351431,\n",
      "        67.0928014 ,  60.9239174 ])), (array([ 297.87111283,  293.50082073,  288.17147178, ...,  304.90445595,\n",
      "        303.37854121,  301.09876686]), array([ 22.1812179 ,  17.87001628,  11.48662353, ...,  13.81662179,\n",
      "        20.86276726,  23.45666973])), (array([ 180.56669462,  177.01769771,  171.19740982, ...,  188.36478961,\n",
      "        185.28902685,  183.155802  ]), array([ 5.33196544,  2.20228852, -0.57786098, ..., -1.07067936,\n",
      "        5.73273847,  7.11233979])), (array([ 116.97675102,  109.49119457,  106.92761283, ...,  123.58549415,\n",
      "        121.1896782 ,  120.31208783]), array([-0.23577604, -1.100078  ,  0.31137758, ..., -4.76498491,\n",
      "        2.84542224,  2.08603546]))]\n"
     ]
    },
    {
     "ename": "TypeError",
     "evalue": "zip argument #1 must support iteration",
     "output_type": "error",
     "traceback": [
      "\u001b[0;31m---------------------------------------------------------------------------\u001b[0m",
      "\u001b[0;31mTypeError\u001b[0m                                 Traceback (most recent call last)",
      "\u001b[0;32m<ipython-input-60-9c09251e5aff>\u001b[0m in \u001b[0;36m<module>\u001b[0;34m()\u001b[0m\n\u001b[1;32m      7\u001b[0m \u001b[0;32mfor\u001b[0m \u001b[0mi\u001b[0m \u001b[0;32min\u001b[0m \u001b[0mrange\u001b[0m\u001b[0;34m(\u001b[0m\u001b[0;36m1\u001b[0m\u001b[0;34m,\u001b[0m \u001b[0mlen\u001b[0m\u001b[0;34m(\u001b[0m\u001b[0msegments\u001b[0m\u001b[0;34m)\u001b[0m\u001b[0;34m)\u001b[0m\u001b[0;34m:\u001b[0m\u001b[0;34m\u001b[0m\u001b[0m\n\u001b[1;32m      8\u001b[0m     \u001b[0msignal\u001b[0m \u001b[0;34m=\u001b[0m \u001b[0mwavesA\u001b[0m\u001b[0;34m.\u001b[0m\u001b[0miloc\u001b[0m\u001b[0;34m[\u001b[0m\u001b[0msegments\u001b[0m\u001b[0;34m[\u001b[0m\u001b[0mi\u001b[0m\u001b[0;34m-\u001b[0m\u001b[0;36m1\u001b[0m\u001b[0;34m]\u001b[0m\u001b[0;34m:\u001b[0m\u001b[0msegments\u001b[0m\u001b[0;34m[\u001b[0m\u001b[0mi\u001b[0m\u001b[0;34m]\u001b[0m\u001b[0;34m]\u001b[0m\u001b[0;34m[\u001b[0m\u001b[0;34m'AR1'\u001b[0m\u001b[0;34m]\u001b[0m\u001b[0;34m\u001b[0m\u001b[0m\n\u001b[0;32m----> 9\u001b[0;31m     \u001b[0;32mfor\u001b[0m \u001b[0mcoeff\u001b[0m\u001b[0;34m,\u001b[0m \u001b[0mlabel\u001b[0m \u001b[0;32min\u001b[0m \u001b[0mzip\u001b[0m\u001b[0;34m(\u001b[0m\u001b[0mgenerateSWTCoeffs\u001b[0m\u001b[0;34m(\u001b[0m\u001b[0mwavesA\u001b[0m\u001b[0;34m,\u001b[0m \u001b[0;36m30\u001b[0m\u001b[0;34m)\u001b[0m\u001b[0;34m,\u001b[0m \u001b[0mdetail_coeffs_list\u001b[0m\u001b[0;34m)\u001b[0m\u001b[0;34m:\u001b[0m\u001b[0;34m\u001b[0m\u001b[0m\n\u001b[0m\u001b[1;32m     10\u001b[0m         \u001b[0mprint\u001b[0m\u001b[0;34m(\u001b[0m\u001b[0mcoeff\u001b[0m\u001b[0;34m)\u001b[0m\u001b[0;34m\u001b[0m\u001b[0m\n\u001b[1;32m     11\u001b[0m         \u001b[0mprint\u001b[0m\u001b[0;34m(\u001b[0m\u001b[0mlabel\u001b[0m\u001b[0;34m)\u001b[0m\u001b[0;34m\u001b[0m\u001b[0m\n",
      "\u001b[0;31mTypeError\u001b[0m: zip argument #1 must support iteration"
     ]
    }
   ],
   "source": [
    "def segmenter(window=13.5):\n",
    "    section_size = math.ceil(13.5 / DATA_TIME_CONST)\n",
    "    return np.arange(0, len(wavesA), section_size)\n",
    "\n",
    "segments = segmenter()\n",
    "\n",
    "for i in range(1, len(segments)):\n",
    "    signal = wavesA.iloc[segments[i-1]:segments[i]]['AR1']\n",
    "    for coeff, label in zip(generateSWTCoeffs(wavesA, 30), detail_coeffs_list):\n",
    "        print(coeff)\n",
    "        print(label)\n",
    "    "
   ]
  },
  {
   "cell_type": "code",
   "execution_count": null,
   "metadata": {},
   "outputs": [],
   "source": []
  }
 ],
 "metadata": {
  "kernelspec": {
   "display_name": "Python [conda env:anaconda]",
   "language": "python",
   "name": "conda-env-anaconda-py"
  },
  "language_info": {
   "codemirror_mode": {
    "name": "ipython",
    "version": 3
   },
   "file_extension": ".py",
   "mimetype": "text/x-python",
   "name": "python",
   "nbconvert_exporter": "python",
   "pygments_lexer": "ipython3",
   "version": "3.5.2"
  }
 },
 "nbformat": 4,
 "nbformat_minor": 1
}
